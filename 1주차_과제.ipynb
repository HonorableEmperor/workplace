{
  "nbformat": 4,
  "nbformat_minor": 0,
  "metadata": {
    "colab": {
      "name": "1주차 과제",
      "provenance": []
    },
    "kernelspec": {
      "name": "python3",
      "display_name": "Python 3"
    }
  },
  "cells": [
    {
      "cell_type": "markdown",
      "metadata": {
        "id": "TyNfW15RMsIh",
        "colab_type": "text"
      },
      "source": [
        "01. 언어\n",
        "- Google translate   \n",
        "\n",
        "2006년 4월부터 시작된 Google의 무료 번역 서비스로, 현재 세계에서 가장 많이 사용되고 있는 기계번역 서비스이다. 언어 데이터를 모으기 위해 사용해 유엔과 유럽 의회의 구술 기록을 사용했다.\n",
        "\n",
        "02. 음성\n",
        "- Amazon Echo/Amazon Alexa   \n",
        "\n",
        "각각 Amazon에서 개발한 스마트 스피커와 가상 인공지능 비서 서비스로, 사용자의 목소리가 Amazon echo의 마이크를 통해 입력되면, speech processor는 음성 신호를 음성 신호 벡터로 변화시키고, 음성 신호 벡터는 speech recognizer와 linguistic feature extractor를 통해 linguistic representation으로 추출되는 원리로 작동한다.\n",
        "\n",
        "   추가적으로, Amazon Alexa가 입력된 언어를 제대로 이해하기 위해서는 스킬, 의도, 슬롯에 대한 정확한 분석이 선행되어야 하기에 Amazon Alexa의 의도 분류기는 Artificial Neural Netwro와 Deep Neural Network를 사용하여서, 축적되는 데이터에 따라 뉴럴 네트워크의 변화하는 가중치를 감지하고, 이를 학습해 보다 정확하게 명령의 의도를 판단할 수 있게 된다.\n",
        "\n",
        "03. 이미지\n",
        "- Microsoft Photos   \n",
        "\n",
        "Microshoft사의 Photo app은 사용자가 저장한 사진들의 특징들을 특정한 기준들로 나누어 분류하는 서비스를 제공하고 있다. 예를 들어, 웃는 사진들의 경우 #Happy days라는 클래스에 분류가 되는 형식이다.\n",
        "\n",
        "\n",
        "04. 자율주행\n",
        "- Tesla   \n",
        "\n",
        "Tesla사는 현재 자율 주행 자동차를 양산화하는데 성공하였으며, 테슬라의 인공신경망은 최근의 인공지능 연구를 적용하여, 인식과 조작의 문제를 딥러닝으로 교육하고 있다. Tesla의 8개의 카메라의 이미지마다 각각의 인공신경망이 원이미지들을 분석하여, 의미적 분할, 객체 인식, 거리의 예측을 수행하고 있다.   \n",
        " 모든 이미지들을 통합하여 도로의 모양과 정적인 구조물들, 3차원 객체를 분석해내며, Tesla network는 백만대 이상의 자동차로부터 수집되는 데이터를 실시간으로 분석하여 복잡한 개별 시나리오로부터 학습을 한다."
      ]
    },
    {
      "cell_type": "markdown",
      "metadata": {
        "id": "Fi-WY-M1Mquh",
        "colab_type": "text"
      },
      "source": [
        ""
      ]
    }
  ]
}